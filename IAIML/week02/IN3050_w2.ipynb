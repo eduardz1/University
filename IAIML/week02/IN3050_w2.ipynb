{
 "cells": [
  {
   "cell_type": "markdown",
   "metadata": {},
   "source": [
    "### 1. Given the function $ f(x) = -x^{4} + 2x^{3} + 2x^{2} - x $ and it's derivative $f'(x) = {- 4 x^3 + 6 x^2 + 4 x - 1}$"
   ]
  },
  {
   "cell_type": "code",
   "execution_count": 2,
   "metadata": {},
   "outputs": [],
   "source": [
    "# Standard import and functions\n",
    "# Run this cell first\n",
    "%matplotlib inline\n",
    "import numpy as np\n",
    "import matplotlib.pyplot as plt\n",
    "\n",
    "\n",
    "def f(x):\n",
    "    return -np.power(x, 4) + 2 * np.power(x, 3) + 2 * np.power(x, 2) - x\n",
    "\n",
    "\n",
    "def df(x):\n",
    "    return -4 * np.power(x, 3) + 6 * np.power(x, 2) + 4 * x - 1"
   ]
  },
  {
   "cell_type": "markdown",
   "metadata": {},
   "source": [
    "#### a. Plot the function, and its gradient (derivative) from $x = -2$ to $x = 3$"
   ]
  },
  {
   "cell_type": "code",
   "execution_count": 3,
   "metadata": {},
   "outputs": [
    {
     "data": {
      "image/png": "[encoded data removed]",
      "text/plain": [
       "<Figure size 640x480 with 1 Axes>"
      ]
     },
     "metadata": {},
     "output_type": "display_data"
    }
   ],
   "source": [
    "# Add your solution here\n",
    "points = np.arange(-2, 3, 0.01)  # can also use points = np.linspace(-2, 3, 100)\n",
    "plt.plot(points, f(points), label=\"f(x)\")\n",
    "plt.plot(points, df(points), label=\"df(x)\")\n",
    "\n",
    "plt.legend()\n",
    "plt.grid()\n",
    "plt.show()"
   ]
  },
  {
   "cell_type": "markdown",
   "metadata": {},
   "source": [
    "#### b. Maximize using gradient ascent. You can try step size 0.1 and start somewhere in the range $[-2, 3]$. "
   ]
  },
  {
   "cell_type": "markdown",
   "metadata": {},
   "source": [
    "Gradient ascent: $x^{(k+1)} = x^{(k)} + \\gamma \\Delta f(x^{(k)})$"
   ]
  },
  {
   "cell_type": "code",
   "execution_count": 4,
   "metadata": {},
   "outputs": [
    {
     "name": "stdout",
     "output_type": "stream",
     "text": [
      "-0.6462007926123104\n"
     ]
    }
   ],
   "source": [
    "# Add your solution here\n",
    "def gradient_ascent(fun=f, dfun=df, num_iterations=100000, gamma=0.1):\n",
    "    curr = np.random.uniform(-2, 3)\n",
    "\n",
    "    while num_iterations > 0:\n",
    "        curr += gamma * dfun(curr)\n",
    "        num_iterations -= 1\n",
    "\n",
    "    return curr\n",
    "\n",
    "\n",
    "print(gradient_ascent())"
   ]
  },
  {
   "cell_type": "markdown",
   "metadata": {},
   "source": [
    "##### How does the choice of starting point and step size affect the algorithm's performance?\n",
    "\n",
    "##### Is there a starting point where the algorithm would not even be able to find a local maximum?"
   ]
  },
  {
   "cell_type": "code",
   "execution_count": null,
   "metadata": {},
   "outputs": [],
   "source": [
    "# Add your solution here"
   ]
  },
  {
   "cell_type": "markdown",
   "metadata": {},
   "source": [
    "#### c. Assume that we are only interested in maxima of $f(x)$, where $-2 \\leq x \\leq 3$, and x increases in step length of 0.5 ($\\Delta x = 0.5$). Perform an exhaustive search to maximize $f(x)$ and plot the result"
   ]
  },
  {
   "cell_type": "code",
   "execution_count": 5,
   "metadata": {},
   "outputs": [
    {
     "name": "stdout",
     "output_type": "stream",
     "text": [
      "1.9500000000000037\n"
     ]
    }
   ],
   "source": [
    "# Add your solution here\n",
    "def exhaustive_search(fun=f, range=(-2, 3), step_length=0.05):\n",
    "    x = np.arange(range[0], range[1], step_length)\n",
    "    res = x[0]\n",
    "\n",
    "    for i in x:\n",
    "        if fun(i) > fun(res):\n",
    "            res = i\n",
    "\n",
    "    return res\n",
    "\n",
    "\n",
    "print(exhaustive_search())"
   ]
  },
  {
   "cell_type": "markdown",
   "metadata": {},
   "source": [
    "#### d. Gradient ascent and hill climbing are quite similar, and they are based almost exclusively on exploitation. Can you think of any additions to these algorithms in order to do more exploration?"
   ]
  },
  {
   "cell_type": "code",
   "execution_count": 15,
   "metadata": {},
   "outputs": [
    {
     "name": "stdout",
     "output_type": "stream",
     "text": [
      "5.049796406082757\n"
     ]
    }
   ],
   "source": [
    "# Add your solution here\n",
    "import random\n",
    "\n",
    "\n",
    "def simulated_annealing(\n",
    "    fun=f, step_size=0.05, temperature=5, min_temperature=0.0001, alpha=0.9\n",
    "):\n",
    "    prev = 0.0\n",
    "    succ = 0.0\n",
    "    curr = np.random.normal(-2, 3)\n",
    "\n",
    "    while temperature > min_temperature:\n",
    "        prev = f(curr - step_size)\n",
    "        succ = f(curr + step_size)\n",
    "\n",
    "        if random.uniform(0, 100) < temperature:\n",
    "            if prev > curr:\n",
    "                curr = succ\n",
    "            elif succ > curr:\n",
    "                curr = prev\n",
    "            continue\n",
    "\n",
    "        if prev > curr:\n",
    "            curr = prev\n",
    "        elif succ > curr:\n",
    "            curr = succ\n",
    "\n",
    "        temperature *= alpha  # cooling phase\n",
    "\n",
    "    return curr\n",
    "\n",
    "\n",
    "print(simulated_annealing())"
   ]
  },
  {
   "cell_type": "markdown",
   "metadata": {},
   "source": [
    "#### e. Which algorithm do you think is the most efficient at maximizing $f(x)$ under the conditions in Problem **d**; exhaustive search or simulated annealing?"
   ]
  },
  {
   "cell_type": "code",
   "execution_count": null,
   "metadata": {},
   "outputs": [],
   "source": [
    "# Add your solution here"
   ]
  }
 ],
 "metadata": {
  "kernelspec": {
   "display_name": "in3050",
   "language": "python",
   "name": "python3"
  },
  "language_info": {
   "codemirror_mode": {
    "name": "ipython",
    "version": 3
   },
   "file_extension": ".py",
   "mimetype": "text/x-python",
   "name": "python",
   "nbconvert_exporter": "python",
   "pygments_lexer": "ipython3",
   "version": "3.10.9"
  },
  "vscode": {
   "interpreter": {
    "hash": "d40ea25749572539fdb8ccd8c1ea8ce1614b67495d40e86e9269cf8faeca5ab8"
   }
  }
 },
 "nbformat": 4,
 "nbformat_minor": 2
}
