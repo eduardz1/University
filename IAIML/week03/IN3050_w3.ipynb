{
 "cells": [
  {
   "cell_type": "markdown",
   "metadata": {},
   "source": [
    "# IN3050/IN4050 - Week 3\n",
    "## Representations"
   ]
  },
  {
   "cell_type": "markdown",
   "metadata": {},
   "source": [
    "### 1. ![Naming_Question](EA_Terms.png)"
   ]
  },
  {
   "cell_type": "markdown",
   "metadata": {},
   "source": [
    "Name the terms shown in the picture above."
   ]
  },
  {
   "cell_type": "code",
   "execution_count": 8,
   "metadata": {},
   "outputs": [],
   "source": [
    "# Add your solution here\n",
    "# A: \n",
    "\n",
    "# B: \n",
    "\n",
    "# C: gene\n",
    "\n",
    "# D:\n",
    "\n",
    "# E: "
   ]
  },
  {
   "cell_type": "markdown",
   "metadata": {},
   "source": [
    "### 2. Mention some of the most common representations of genomes."
   ]
  },
  {
   "cell_type": "code",
   "execution_count": 9,
   "metadata": {},
   "outputs": [],
   "source": [
    "# Add your solution here"
   ]
  },
  {
   "cell_type": "markdown",
   "metadata": {},
   "source": [
    "### 3. Perform a mutation operation on the representations given below.\n",
    "\n",
    "binary = $[1, 0, 1, 1]$;\n",
    "integer = $[4, 2, 4, 1]$;\n",
    "real_valued = $[2.53, 1.42, 3.14, 1.68]$;\n",
    "permutation = $[3, 4, 1, 2]$"
   ]
  },
  {
   "cell_type": "code",
   "execution_count": 4,
   "metadata": {},
   "outputs": [],
   "source": [
    "# Add your solution here"
   ]
  },
  {
   "cell_type": "markdown",
   "metadata": {},
   "source": [
    "### 4. Given the sequences (2,4,7,1,3,6,8,9,5) and (5,9,8,6,2,4,1,3,7). Implement these algorithms to create a new pair of solutions: "
   ]
  },
  {
   "cell_type": "markdown",
   "metadata": {},
   "source": [
    "#### a. Partially mapped crossover (PMX)"
   ]
  },
  {
   "cell_type": "code",
   "execution_count": 7,
   "metadata": {},
   "outputs": [],
   "source": [
    "import numpy as np\n",
    "import random\n",
    "\n",
    "# Add your solution here\n",
    "def pmx(parent):\n",
    "    permutation = parent.copy()\n",
    "    random.shuffle(permutation)\n",
    "    \n",
    "    i1 = np.random.randint(0, len(parent))\n",
    "    i2 = np.random.randint(i1, len(parent))\n",
    "    \n",
    "    res = permutation.copy()\n",
    "    for i in range (i1, i2):\n",
    "        res[i] = parent[i]\n",
    "        \n",
    "    for i in range (0, i1) and range (i2, len(parent)):\n",
    "        if res[i] in res[i1:i2]:\n",
    "            res[i] = parent[permutation.index(res[i])]\n",
    "            \n",
    "    return res\n",
    "\n",
    "def pmx_pair(parent1, parent2):\n",
    "    return pmx(parent1), pmx(parent2)\n",
    "    "
   ]
  },
  {
   "cell_type": "markdown",
   "metadata": {},
   "source": [
    "#### b. Order crossover"
   ]
  },
  {
   "cell_type": "code",
   "execution_count": 8,
   "metadata": {},
   "outputs": [],
   "source": [
    "# Add your solution here\n",
    "def order_crossover(parent):\n",
    "    permutation = parent.copy()\n",
    "    random.shuffle(permutation)\n",
    "    \n",
    "    i1 = np.random.randint(0, len(parent))\n",
    "    i2 = np.random.randint(i1, len(parent))\n",
    "    \n",
    "    res = np.zeros(len(parent), dtype=int)\n",
    "    for i in range(i1, i2):\n",
    "        res[i] = parent[i]\n",
    "        \n",
    "    for i in range(len(permutation)):\n",
    "        if permutation[i] not in res:\n",
    "            res[i] = permutation[i]\n",
    "            \n",
    "    return res\n",
    "    \n",
    "def order_crossover_pair(parent1, parent2):\n",
    "    return order_crossover(parent1), order_crossover(parent2)"
   ]
  },
  {
   "cell_type": "markdown",
   "metadata": {},
   "source": [
    "#### c. Cycle crossover"
   ]
  },
  {
   "cell_type": "code",
   "execution_count": 9,
   "metadata": {},
   "outputs": [],
   "source": [
    "# Add your solution here\n",
    "def cycle_crossover(parent):\n",
    "    permutation = parent.copy()\n",
    "    random.shuffle(permutation)\n",
    "    \n",
    "    res = np.zeros(len(parent), dtype=int)\n",
    "    \n",
    "    for i in range(len(parent)):\n",
    "        res[i] = permutation[parent.index(permutation[i])]\n",
    "        \n",
    "    return res\n",
    "\n",
    "def cycle_crossover_pair(parent1, parent2):\n",
    "    return cycle_crossover(parent1), cycle_crossover(parent2)"
   ]
  },
  {
   "cell_type": "markdown",
   "metadata": {},
   "source": [
    "#### Test crossovers"
   ]
  },
  {
   "cell_type": "code",
   "execution_count": 10,
   "metadata": {},
   "outputs": [
    {
     "name": "stdout",
     "output_type": "stream",
     "text": [
      "Parents: [2, 4, 7, 1, 3, 6, 8, 9, 5] and [5, 9, 8, 6, 2, 4, 1, 3, 7]\n",
      "Children after PMX: [3, 1, 2, 8, 9, 5, 4, 7, 6] and [8, 4, 7, 2, 1, 3, 9, 5, 6]\n",
      "Children after Order Crossover: [8 5 7 3 4 2 9 6 1] and [3 7 4 8 5 9 1 6 2]\n",
      "Children after Cycle Crossover: [4 7 8 5 3 6 9 1 2] and [5 8 1 3 9 7 2 4 6]\n"
     ]
    }
   ],
   "source": [
    "a = [2, 4, 7, 1, 3, 6, 8, 9, 5]\n",
    "b = [5, 9, 8, 6, 2, 4, 1, 3, 7]\n",
    "c, d = pmx_pair(a, b)\n",
    "e, f = order_crossover_pair(a, b)\n",
    "g, h = cycle_crossover_pair(a, b)\n",
    "print(f\"Parents: {a} and {b}\")\n",
    "print(f\"Children after PMX: {c} and {d}\")\n",
    "print(f\"Children after Order Crossover: {e} and {f}\")\n",
    "print(f\"Children after Cycle Crossover: {g} and {h}\")"
   ]
  }
 ],
 "metadata": {
  "kernelspec": {
   "display_name": "in3050",
   "language": "python",
   "name": "python3"
  },
  "language_info": {
   "codemirror_mode": {
    "name": "ipython",
    "version": 3
   },
   "file_extension": ".py",
   "mimetype": "text/x-python",
   "name": "python",
   "nbconvert_exporter": "python",
   "pygments_lexer": "ipython3",
   "version": "3.10.9 (main, Jan 11 2023, 15:21:40) [GCC 11.2.0]"
  },
  "vscode": {
   "interpreter": {
    "hash": "d40ea25749572539fdb8ccd8c1ea8ce1614b67495d40e86e9269cf8faeca5ab8"
   }
  }
 },
 "nbformat": 4,
 "nbformat_minor": 2
}
