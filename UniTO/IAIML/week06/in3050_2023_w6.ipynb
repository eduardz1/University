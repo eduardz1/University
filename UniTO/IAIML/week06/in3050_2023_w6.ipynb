{
 "cells": [
  {
   "cell_type": "markdown",
   "metadata": {},
   "source": [
    "# IN3050/IN4050 2021: Week 06 Perceptron\n",
    "### Introduction\n",
    "The goal of this week's exercise set is to get familiar with the perceptron classifier.\n",
    "The set has to parts.\n",
    "The first part does not involve programming or Python.\n",
    "The questions in this part are the type of questions who will meet at the exam.\n",
    "They can (and should) be solved by pen and paper or a word processor and, eventually, a calculator.\n",
    "\n",
    "The second part involves implementaions in Python."
   ]
  },
  {
   "cell_type": "markdown",
   "metadata": {},
   "source": [
    "## Part 1: Exam type exercises"
   ]
  },
  {
   "cell_type": "markdown",
   "metadata": {},
   "source": [
    "### Exercise I\n",
    "You want to predict if movies will be profitable based on their screenplays. You hire two critics A and B to read a script you have and rate it on a scale of 1 to 6. The critics are not perfect; here are five data points including the critics' scores and the performance of the movie:\n",
    "```\n",
    "| Movie # | Alice    | Bob       | Profitable? |\n",
    "|  _______|__________|___________|_____________|\n",
    "|  1      | 1        | 1         |      no     |\n",
    "|  _______|__________|___________|_____________|\n",
    "|  2      | 4        | 3         |      yes    |\n",
    "|  _______|__________|___________|_____________|\n",
    "|  3      | 3        | 5         |      yes    |\n",
    "|  _______|__________|___________|_____________|\n",
    "|  4      | 5        | 6         |      yes    |\n",
    "|  _______|__________|___________|_____________|\n",
    "|  5      | 2        | 3         |      no     |\n",
    "|  _______|__________|___________|_____________|\n",
    "```\n",
    "Is the data linearly separable? Plot the data on a sheet of paper; label profitable movies with + and non-profitable movies with x and determine if the data are linearily separable."
   ]
  },
  {
   "attachments": {},
   "cell_type": "markdown",
   "metadata": {},
   "source": [
    "Yes it is linearly separable, the equation $f(x) = -3/2 + 7$ solves it"
   ]
  },
  {
   "attachments": {},
   "cell_type": "markdown",
   "metadata": {},
   "source": [
    "### Exercise II\n",
    "\n",
    "You decide to use a perceptron to classify your data. \n",
    "Suppose you directly use the scores given above as features,\n",
    "$x_1=$ score given by A and $x_2=$ score given by B.\n",
    "You also add a bias term in position 0, $x_0=-1$.\n",
    "\n",
    "Run one pass through the data with the perceptron algorithm, filling out the table below. \n",
    "Go through the data points in order, e.g., using data from movie 1 at step 1. \n",
    "Suppose we start with the weights $(w_0, w_1, w_2)=(1,0,0)$. \n",
    "Use $1$ as learning rate.\n",
    "\n",
    "For each of the 5 steps, write the \n",
    "the score, and whether the prediction is correct.\n",
    "Calculate the new weights, enter them at the next line and repeat.\n",
    "\n",
    "```\n",
    "| Step | Weights    | Score                     | Correct predicition? |\n",
    "_______|____________|___________________________|______________________|\n",
    "|  1   | (1, 0, 0)  | 1*(-1) + 0*1 + 0*1 = -1   |      yes             |\n",
    "|______|____________|___________________________|______________________|\n",
    "|  2   | (1, 0, 0)  | 1*(-1) + 0*4 + 0*3 = -1   |      no              |\n",
    "|______|____________|___________________________|______________________|\n",
    "\n",
    "--> update weigths with eta=1: (1+(1*1*(-1)), (0+(1*1*4)), (0+(1*1*3))) \n",
    "\n",
    "|  3   | (0, 4, 3)  | 0*(-1) + 4*3 + 3*5 = 27   |      yes             |\n",
    "|______|____________|___________________________|______________________|\n",
    "|  4   | (0, 4, 3)  | 0*(-1) + 4*5 + 3*6 = 38   |      yes             |\n",
    "|______|____________|___________________________|______________________|\n",
    "|  5   | (0, 4, 3)  | 0*(-1) + 4*2 + 3*3 = 17   |      no              |\n",
    "|______|____________|___________________________|______________________|\n",
    "|      |            |\n",
    "|______|____________|\n",
    "\n",
    "```"
   ]
  },
  {
   "cell_type": "markdown",
   "metadata": {},
   "source": [
    "### Exercise III\n",
    "Have weights been learned that separate the data? \n",
    "Plot the data together with the decision boundary given by the weigths which you are left with after you have run all the data points the first round in the previouse question."
   ]
  },
  {
   "cell_type": "code",
   "execution_count": 111,
   "metadata": {},
   "outputs": [
    {
     "data": {
      "image/png": "[encoded data removed]",
      "text/plain": [
       "<Figure size 640x480 with 1 Axes>"
      ]
     },
     "metadata": {},
     "output_type": "display_data"
    }
   ],
   "source": [
    "# weigths have been changed but are not enough to separate the data yet,\n",
    "# if we simplify the equation for weights (0, 4, 3) we get x_1 = -3/4x_2\n",
    "# We can plot the graph:\n",
    "\n",
    "import matplotlib.pyplot as plt\n",
    "import numpy as np\n",
    "\n",
    "markers = [\"x\", \"+\"]\n",
    "colors = [\"r\", \"g\"]\n",
    "\n",
    "p1 = plt.scatter(1, 1, marker=markers[0], color=colors[0])\n",
    "p2 = plt.scatter(4, 3, marker=markers[1], color=colors[1])\n",
    "p3 = plt.scatter(3, 5, marker=markers[1], color=colors[1])\n",
    "p4 = plt.scatter(5, 6, marker=markers[1], color=colors[1])\n",
    "p5 = plt.scatter(2, 3, marker=markers[0], color=colors[0])\n",
    "\n",
    "x = np.linspace(0, 6, 100)\n",
    "y = -3 / 4 * x\n",
    "\n",
    "plt.plot(x, y)\n",
    "plt.show()"
   ]
  },
  {
   "cell_type": "markdown",
   "metadata": {},
   "source": [
    "### Exercise IV\n",
    "More generally, irrespective of the training data, you want to know if your features are powerful enough to allow you to handle a range of scenarios. Which of the following scenarios can a perceptron using the features above  indeed perfectly classify movies which are profitable according to the given rules:\n",
    "\n",
    "1. Your reviewers are awesome: if the total of their scores is more than 8, then the movie will definitely be profitable, and otherwise it won't be.\n",
    "\n",
    "2. Your reviewers are art critics. Your movie will be profitable if and only if each reviewer gives either a score of 3 or a score of 4.\n",
    "\n",
    "3. Your reviewers have weird but different tastes. Your movie will be profitable if and only if both reviewers agree."
   ]
  },
  {
   "attachments": {},
   "cell_type": "markdown",
   "metadata": {},
   "source": [
    "The last request is not solvable with the linear classifier resulting from running the perceptron algorithm on the data above."
   ]
  },
  {
   "cell_type": "markdown",
   "metadata": {},
   "source": [
    "## Part 2: Implementing the Perceptron Classifier"
   ]
  },
  {
   "cell_type": "markdown",
   "metadata": {},
   "source": [
    "### Exercise V\n",
    "We will implement the perceptron classifier. We will implement it as a class similarly to how we implemented the *k*NN-classifier last week. You should implement the two methods `fit` and `predict`. You don't need an `__init__` method. You may include other methods if you find them convenient.\n",
    "\n",
    "The main part of the perceptron classifier is the `fit` method that trains the perceptron.\n",
    "`eta` is the learning rate.\n",
    "One `epoch` is a run through all the training data.\n",
    "We have set the default to one epoch, but you might need more.\n",
    "Remember to add the bias to the data."
   ]
  },
  {
   "cell_type": "code",
   "execution_count": 55,
   "metadata": {},
   "outputs": [],
   "source": [
    "class PyClassifier:\n",
    "    \"\"\"Common methods to all python classifiers\"\"\"\n",
    "\n",
    "    def accuracy(a, b):\n",
    "        return sum([1 for (x, y) in zip(a, b) if x == y]) / len(a)"
   ]
  },
  {
   "cell_type": "code",
   "execution_count": 84,
   "metadata": {},
   "outputs": [],
   "source": [
    "class PyPerClassifier(PyClassifier):\n",
    "    \"\"\"Simple perceptron python classifier\"\"\"\n",
    "\n",
    "    def fit(self, X_train, y_train, eta=0.2, epochs=5):\n",
    "        \"\"\"Train the self.weights on the training data with learning\n",
    "        rate eta, running epochs many epochs\"\"\"\n",
    "        weights = np.zeros(X_train.shape[1] + 1)\n",
    "        weights[0] = -1  # bias\n",
    "\n",
    "        flag = True  # if changes are happening then true\n",
    "\n",
    "        for i in range(epochs):\n",
    "            for x, t in zip(X_train, y_train):\n",
    "                s = np.sum(weights[0] + np.dot(weights[1:], x))\n",
    "                d = 1 if s > 0 else 0\n",
    "                if d != t:\n",
    "                    flag = True\n",
    "                    weights[1:] += eta * (t - d) * x\n",
    "                    weights[0] += eta * (t - d)\n",
    "\n",
    "            if not flag:\n",
    "                print(\"Took {} epochs to converge\".format(i))\n",
    "                break\n",
    "            flag = False\n",
    "\n",
    "        self.weights = weights\n",
    "\n",
    "    def predict(self, X):\n",
    "        \"\"\"Predict the class for the items (in the list) X\"\"\"\n",
    "        return np.where(np.dot(X, self.weights[1:]) + self.weights[0] >= 0.0, 1, 0)"
   ]
  },
  {
   "cell_type": "markdown",
   "metadata": {},
   "source": [
    "## Dataset\n",
    "We will train and test the classifier on the same sythetic dataset as we used for the *k*NN last week."
   ]
  },
  {
   "cell_type": "code",
   "execution_count": 85,
   "metadata": {},
   "outputs": [],
   "source": [
    "from sklearn.datasets import make_blobs\n",
    "\n",
    "X_np, y_np = make_blobs(\n",
    "    n_samples=200, centers=[[0, 0], [1, 2]], n_features=2, random_state=2019\n",
    ")\n",
    "X1 = [(X_np[i, 0], X_np[i, 1]) for i in range(X_np.shape[0])]\n",
    "t1 = [y_np[i] for i in range(X_np.shape[0])]"
   ]
  },
  {
   "cell_type": "code",
   "execution_count": 86,
   "metadata": {},
   "outputs": [],
   "source": [
    "def show(X, y, marker=\".\"):\n",
    "    labels = set(y)\n",
    "    cl = {lab: [] for lab in labels}\n",
    "    # cl[lab] shall contain the datapoints labeled lab\n",
    "    for a, b in zip(X, y):\n",
    "        cl[b].append(a)\n",
    "    for lab in labels:\n",
    "        plt.plot(\n",
    "            [a[0] for a in cl[lab]],\n",
    "            [a[1] for a in cl[lab]],\n",
    "            marker,\n",
    "            label=\"class {}\".format(lab),\n",
    "        )\n",
    "    plt.legend()"
   ]
  },
  {
   "cell_type": "code",
   "execution_count": 87,
   "metadata": {
    "scrolled": false
   },
   "outputs": [
    {
     "data": {
      "image/png": "[encoded data removed]",
      "text/plain": [
       "<Figure size 640x480 with 1 Axes>"
      ]
     },
     "metadata": {},
     "output_type": "display_data"
    }
   ],
   "source": [
    "show(X1, t1)"
   ]
  },
  {
   "cell_type": "markdown",
   "metadata": {},
   "source": [
    "### Exercise VI\n",
    "Train PyPerClassifier on  X1, t1 and test on X2, t2 as with the *k*NN-classifier. Try various numbers of epochs and see whether it makes a difference.\n",
    "\n",
    "Is X2, t2 linearly separable?\n",
    "\n",
    "How does the results compare to the *k*NN classifier from last week?"
   ]
  },
  {
   "cell_type": "code",
   "execution_count": 94,
   "metadata": {},
   "outputs": [],
   "source": [
    "cls = PyPerClassifier()\n",
    "cls.fit(X_np, y_np, eta=1, epochs=5)"
   ]
  },
  {
   "cell_type": "code",
   "execution_count": 89,
   "metadata": {},
   "outputs": [],
   "source": [
    "X_np, y_np = make_blobs(\n",
    "    n_samples=200, centers=[[0, 0], [1, 2]], n_features=2, random_state=2020\n",
    ")\n",
    "X2 = [(X_np[i, 0], X_np[i, 1]) for i in range(X_np.shape[0])]\n",
    "t2 = [y_np[i] for i in range(X_np.shape[0])]"
   ]
  },
  {
   "cell_type": "code",
   "execution_count": 95,
   "metadata": {},
   "outputs": [
    {
     "data": {
      "text/plain": [
       "0.82"
      ]
     },
     "execution_count": 95,
     "metadata": {},
     "output_type": "execute_result"
    }
   ],
   "source": [
    "prediction = cls.predict(X2)\n",
    "PyClassifier.accuracy(prediction, t2)"
   ]
  },
  {
   "cell_type": "markdown",
   "metadata": {},
   "source": [
    "### Exercise VII: Termination and Weights\n",
    "\n",
    "- Modify the *fit*-method of the classifier such that training halts when there are no more updates, and it is possible to inspect how many epochs it took.\n",
    "- Run this on the five points film critics dataset. How many epochs does it take to reach completion?\n",
    "- What are the final weights? Can you plot the decision boundary that corresponds to these weights together with the data set?"
   ]
  },
  {
   "cell_type": "code",
   "execution_count": 110,
   "metadata": {},
   "outputs": [
    {
     "name": "stdout",
     "output_type": "stream",
     "text": [
      "Took 11 epochs to converge\n",
      "The final weights are: [-7.  6. -2.]\n"
     ]
    },
    {
     "data": {
      "image/png": "[encoded data removed]",
      "text/plain": [
       "<Figure size 640x480 with 1 Axes>"
      ]
     },
     "metadata": {},
     "output_type": "display_data"
    }
   ],
   "source": [
    "X_cinema = np.array([[1, 1], [4, 3], [3, 5], [5, 6], [2, 3]])\n",
    "t_cinema = [0, 1, 1, 1, 0]\n",
    "\n",
    "clss = PyPerClassifier()\n",
    "clss.fit(X_cinema, t_cinema, eta=1, epochs=100)\n",
    "weights = clss.weights\n",
    "\n",
    "print(\"The final weights are: {}\".format(weights))\n",
    "\n",
    "p1 = plt.scatter(1, 1, marker=markers[0], color=colors[0])\n",
    "p2 = plt.scatter(4, 3, marker=markers[1], color=colors[1])\n",
    "p3 = plt.scatter(3, 5, marker=markers[1], color=colors[1])\n",
    "p4 = plt.scatter(5, 6, marker=markers[1], color=colors[1])\n",
    "p5 = plt.scatter(2, 3, marker=markers[0], color=colors[0])\n",
    "\n",
    "x = np.linspace(0, 6, 100)\n",
    "y = -weights[1] / weights[2] * x - weights[0] / weights[2]\n",
    "\n",
    "plt.plot(x, y)\n",
    "plt.show()"
   ]
  }
 ],
 "metadata": {
  "kernelspec": {
   "display_name": "in3050",
   "language": "python",
   "name": "python3"
  },
  "language_info": {
   "codemirror_mode": {
    "name": "ipython",
    "version": 3
   },
   "file_extension": ".py",
   "mimetype": "text/x-python",
   "name": "python",
   "nbconvert_exporter": "python",
   "pygments_lexer": "ipython3",
   "version": "3.10.9"
  },
  "vscode": {
   "interpreter": {
    "hash": "d40ea25749572539fdb8ccd8c1ea8ce1614b67495d40e86e9269cf8faeca5ab8"
   }
  }
 },
 "nbformat": 4,
 "nbformat_minor": 2
}
