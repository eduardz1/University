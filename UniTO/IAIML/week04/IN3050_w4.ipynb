{
 "cells": [
  {
   "cell_type": "markdown",
   "metadata": {},
   "source": [
    "# IN3050/IN4050 - Week 4"
   ]
  },
  {
   "cell_type": "markdown",
   "metadata": {},
   "source": [
    "## Preserving Diversity\n",
    "\n",
    "### 1. Why do we want to preserve diversity?"
   ]
  },
  {
   "cell_type": "code",
   "execution_count": null,
   "metadata": {},
   "outputs": [],
   "source": [
    "# Add your solution here\n",
    "# To avoid choosing always the best solution and exploiting it too much risking being stuck in a local optima, to let the algorithm explore more"
   ]
  },
  {
   "cell_type": "markdown",
   "metadata": {},
   "source": [
    "### 2. What are the main differences between explicit and implicit approaches?"
   ]
  },
  {
   "cell_type": "code",
   "execution_count": null,
   "metadata": {},
   "outputs": [],
   "source": [
    "# Add your solution here\n",
    "# crowding and fitness sharing are explicit approaches\n",
    "# implicit approaches are the ones in which we try to divide the population in several parts (example speciation), after several generation you can swap the population between different EAs"
   ]
  },
  {
   "attachments": {},
   "cell_type": "markdown",
   "metadata": {},
   "source": [
    "## Pareto Optimality\n",
    "\n",
    "![front_points_1 \\label{front_points_1}](front_points_1.png) <center>Figure 1 a</center>\n",
    "![front_points_2](front_points_2.png) <center>Figure 1 b</center>\n",
    "\n",
    "### 3. For figure a and b above, find the Pareto optimal set when\n",
    "* Minimizing both x and y\n",
    "* Minimizing x, maximizing y\n",
    "* Maximizing x, minimizing y\n",
    "* Maximizing both x and y"
   ]
  },
  {
   "cell_type": "code",
   "execution_count": null,
   "metadata": {},
   "outputs": [],
   "source": [
    "# Add your solution here\n",
    "\n",
    "# TODO: check if correct\n",
    "\n",
    "## FIRST IMAGE\n",
    "# - 1, 2, 5, 7\n",
    "# - 1, 3\n",
    "# - 7, 8\n",
    "# - 8, 4, 3\n",
    "\n",
    "## SECOND IMAGE\n",
    "# - 1\n",
    "# - 1, 2, 3\n",
    "# - 5, 7, 8\n",
    "# - 4, 6, 8"
   ]
  },
  {
   "cell_type": "markdown",
   "metadata": {},
   "source": [
    "## Hybrid Algorithms\n",
    "### 4. Why can hybrid algorithms make it harder to maintain diversity?"
   ]
  },
  {
   "cell_type": "code",
   "execution_count": null,
   "metadata": {},
   "outputs": [],
   "source": [
    "# Add your solution here"
   ]
  },
  {
   "cell_type": "markdown",
   "metadata": {},
   "source": [
    "## Applying Evolutionary Algorithms\n",
    "\n",
    "### 5. Drone Example\n",
    "Consider the following problem of designing a drone body with the goal of flying as fast as possible. Down below is a simple example of the drone body and some characteristics of the body that could be used. We want to solve this using an Evolutionary Algorithm. Write down some ways of solving the following points of the problem. (No code needed, just explain your choices)\n",
    "\n",
    "1. Fitness function for evaluating?\n",
    "2. What representation to use?\n",
    "3. Mutation, Crossovers\n",
    "4. Parent selection and survivor selection\n",
    "5. End condition\n",
    "![drone_problem](drone.png)"
   ]
  },
  {
   "cell_type": "code",
   "execution_count": null,
   "metadata": {},
   "outputs": [],
   "source": [
    "# Add your solution here"
   ]
  }
 ],
 "metadata": {
  "kernelspec": {
   "display_name": "Python 3",
   "language": "python",
   "name": "python3"
  },
  "language_info": {
   "codemirror_mode": {
    "name": "ipython",
    "version": 3
   },
   "file_extension": ".py",
   "mimetype": "text/x-python",
   "name": "python",
   "nbconvert_exporter": "python",
   "pygments_lexer": "ipython3",
   "version": "3.10.6"
  },
  "vscode": {
   "interpreter": {
    "hash": "916dbcbb3f70747c44a77c7bcd40155683ae19c65e1c03b4aa3499c5328201f1"
   }
  }
 },
 "nbformat": 4,
 "nbformat_minor": 2
}
