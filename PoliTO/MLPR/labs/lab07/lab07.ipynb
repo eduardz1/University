{
 "cells": [
  {
   "cell_type": "code",
   "execution_count": 1,
   "metadata": {},
   "outputs": [],
   "source": [
    "# Sort the predictions so that changing the threshold just means dividing the list\n",
    "# into two parts and we don't need to recompute the true positives and false positives\n",
    "# for the whole list each time we change the threshold"
   ]
  },
  {
   "cell_type": "code",
   "execution_count": 2,
   "metadata": {},
   "outputs": [],
   "source": [
    "import numpy as np\n",
    "import matplotlib.pyplot as plt\n",
    "import sklearn.datasets as skdata\n",
    "import sklearn.metrics as skmetrics"
   ]
  },
  {
   "cell_type": "markdown",
   "metadata": {},
   "source": [
    "# Helper Functions\n"
   ]
  },
  {
   "cell_type": "code",
   "execution_count": 3,
   "metadata": {},
   "outputs": [],
   "source": [
    "def load_iris():\n",
    "    D, L = skdata.load_iris()[\"data\"].T, skdata.load_iris()[\"target\"]\n",
    "    return D, L\n",
    "\n",
    "\n",
    "def split_db_2to1(D, L, seed=0):\n",
    "    nTrain = int(D.shape[1] * 2.0 / 3.0)\n",
    "    np.random.seed(seed)\n",
    "    idx = np.random.permutation(D.shape[1])\n",
    "    idxTrain = idx[0:nTrain]\n",
    "    idxTest = idx[nTrain:]\n",
    "    DTR = D[:, idxTrain]\n",
    "    DTE = D[:, idxTest]\n",
    "    LTR = L[idxTrain]\n",
    "    LTE = L[idxTest]\n",
    "    return (DTR, LTR), (DTE, LTE)\n",
    "\n",
    "\n",
    "def logpdf_GAU_ND(X, mu, C):\n",
    "    X = np.atleast_2d(X)\n",
    "    mu = np.atleast_1d(mu)\n",
    "    C = np.atleast_2d(C)\n",
    "\n",
    "    return -0.5 * (\n",
    "        X.shape[0] * np.log(2 * np.pi)\n",
    "        + np.linalg.slogdet(C)[1]\n",
    "        + np.einsum(\"ij,ji->i\", np.dot((X - mu).T, np.linalg.inv(C)), (X - mu))\n",
    "    )\n",
    "\n",
    "\n",
    "def log_likelihood_GAU_ND(X, mu, C):\n",
    "    return np.sum(logpdf_GAU_ND(X, mu, C))"
   ]
  },
  {
   "cell_type": "markdown",
   "metadata": {},
   "source": [
    "# Load the Data\n"
   ]
  },
  {
   "cell_type": "code",
   "execution_count": 4,
   "metadata": {},
   "outputs": [],
   "source": [
    "commedia_ll = np.load(\"data/commedia_ll.npy\")\n",
    "commedia_labels = np.load(\"data/commedia_labels.npy\")\n",
    "commedia_llr_infpar = np.load(\"data/commedia_llr_infpar.npy\")\n",
    "commedia_labels_infpar = np.load(\"data/commedia_labels_infpar.npy\")\n",
    "commedia_llr_infpar_eps1 = np.load(\"data/commedia_llr_infpar_eps1.npy\")"
   ]
  },
  {
   "cell_type": "code",
   "execution_count": 5,
   "metadata": {},
   "outputs": [],
   "source": [
    "D, L = load_iris()\n",
    "# DTR and LTR are training data and labels, DTE and LTE are evaluation data and labels\n",
    "(DTR, LTR), (DTE, LTE) = split_db_2to1(D, L)"
   ]
  },
  {
   "cell_type": "markdown",
   "metadata": {},
   "source": [
    "# Compute confusion matrices\n"
   ]
  },
  {
   "cell_type": "markdown",
   "metadata": {},
   "source": [
    "## MVG\n"
   ]
  },
  {
   "cell_type": "code",
   "execution_count": 6,
   "metadata": {},
   "outputs": [
    {
     "name": "stdout",
     "output_type": "stream",
     "text": [
      "[[19  0  0]\n",
      " [ 0 15  0]\n",
      " [ 0  2 14]]\n"
     ]
    }
   ],
   "source": [
    "classes = np.unique(LTE)\n",
    "S = np.zeros((len(classes), DTE.shape[1]))\n",
    "\n",
    "for i, label in enumerate(classes):\n",
    "    mu = np.mean(DTR[:, LTR == label], axis=1, keepdims=True)\n",
    "    C = np.cov(DTR[:, LTR == label], bias=True)\n",
    "    log_pdf = logpdf_GAU_ND(DTE, mu, C)\n",
    "\n",
    "    likelihood = np.exp(log_pdf)\n",
    "\n",
    "    S[i, :] = likelihood\n",
    "\n",
    "SJoint = S * 1 / 3\n",
    "SMarginal = np.sum(SJoint, axis=0)\n",
    "SPost = SJoint / SMarginal\n",
    "predictions = np.argmax(SPost, axis=0)\n",
    "\n",
    "\n",
    "print(skmetrics.confusion_matrix(LTE, predictions).T)"
   ]
  },
  {
   "cell_type": "markdown",
   "metadata": {},
   "source": [
    "## Tied\n"
   ]
  },
  {
   "cell_type": "code",
   "execution_count": 7,
   "metadata": {},
   "outputs": [
    {
     "name": "stdout",
     "output_type": "stream",
     "text": [
      "[[19  0  0]\n",
      " [ 0 16  0]\n",
      " [ 0  1 14]]\n"
     ]
    }
   ],
   "source": [
    "weights = np.array([len(DTR[0, LTR == c]) for c in classes])\n",
    "\n",
    "Sw = np.average(\n",
    "    [np.atleast_2d(np.cov(DTR[:, LTR == c], bias=True)) for c in classes],\n",
    "    axis=0,\n",
    "    weights=weights,\n",
    ")\n",
    "\n",
    "for i, label in enumerate(classes):\n",
    "    D = DTR[:, LTR == label]\n",
    "    mu = np.mean(D, axis=1, keepdims=True)\n",
    "\n",
    "    log_pdf = logpdf_GAU_ND(DTE, mu, Sw)\n",
    "    likelihood = np.exp(log_pdf)\n",
    "    S[i, :] = likelihood\n",
    "\n",
    "SJoint = S * 1 / 3\n",
    "SMarginal = np.sum(SJoint, axis=0)\n",
    "SPost = SJoint / SMarginal\n",
    "predictions = np.argmax(SPost, axis=0)\n",
    "\n",
    "print(skmetrics.confusion_matrix(LTE, predictions).T)"
   ]
  },
  {
   "cell_type": "markdown",
   "metadata": {},
   "source": [
    "## Commedia dataset\n"
   ]
  },
  {
   "cell_type": "code",
   "execution_count": 8,
   "metadata": {},
   "outputs": [
    {
     "name": "stdout",
     "output_type": "stream",
     "text": [
      "[[210 113  61]\n",
      " [137 191 111]\n",
      " [ 53  98 230]]\n"
     ]
    }
   ],
   "source": [
    "SJoint = np.exp(commedia_ll) * 1 / 3\n",
    "SMarginal = np.sum(SJoint, axis=0)\n",
    "SPost = SJoint / SMarginal\n",
    "predictions = np.argmax(SPost, axis=0)\n",
    "\n",
    "print(skmetrics.confusion_matrix(commedia_labels, predictions).T)"
   ]
  },
  {
   "cell_type": "markdown",
   "metadata": {},
   "source": [
    "# Optimal Bayes Decision\n"
   ]
  },
  {
   "cell_type": "code",
   "execution_count": 9,
   "metadata": {},
   "outputs": [],
   "source": [
    "def optimal_bayes_threshold(pi_1, C_fn, C_fp):\n",
    "    return - np.log((pi_1 * C_fn) / ((1 - pi_1) * C_fp))"
   ]
  },
  {
   "cell_type": "code",
   "execution_count": 10,
   "metadata": {},
   "outputs": [
    {
     "name": "stdout",
     "output_type": "stream",
     "text": [
      "[[293  96]\n",
      " [109 304]]\n"
     ]
    }
   ],
   "source": [
    "t = optimal_bayes_threshold(0.5, 1, 1)\n",
    "\n",
    "predictions = commedia_llr_infpar > t\n",
    "print(skmetrics.confusion_matrix(commedia_labels_infpar, predictions).T)"
   ]
  },
  {
   "cell_type": "code",
   "execution_count": 11,
   "metadata": {},
   "outputs": [
    {
     "name": "stdout",
     "output_type": "stream",
     "text": [
      "[[271  80]\n",
      " [131 320]]\n"
     ]
    }
   ],
   "source": [
    "t = optimal_bayes_threshold(0.8, 1, 1)\n",
    "\n",
    "predictions = commedia_llr_infpar > t\n",
    "print(skmetrics.confusion_matrix(commedia_labels_infpar, predictions).T)"
   ]
  },
  {
   "cell_type": "code",
   "execution_count": 12,
   "metadata": {},
   "outputs": [
    {
     "name": "stdout",
     "output_type": "stream",
     "text": [
      "[[257  75]\n",
      " [145 325]]\n"
     ]
    }
   ],
   "source": [
    "t = optimal_bayes_threshold(0.5, 10, 1)\n",
    "\n",
    "predictions = commedia_llr_infpar > t\n",
    "print(skmetrics.confusion_matrix(commedia_labels_infpar, predictions).T)"
   ]
  },
  {
   "cell_type": "code",
   "execution_count": 13,
   "metadata": {},
   "outputs": [
    {
     "name": "stdout",
     "output_type": "stream",
     "text": [
      "[[302 113]\n",
      " [100 287]]\n"
     ]
    }
   ],
   "source": [
    "t = optimal_bayes_threshold(0.8, 1, 10)\n",
    "\n",
    "predictions = commedia_llr_infpar > t   \n",
    "print(skmetrics.confusion_matrix(commedia_labels_infpar, predictions).T)"
   ]
  },
  {
   "cell_type": "markdown",
   "metadata": {},
   "source": [
    "- When the prior for class 1 increase, the classifier tends to predict class 1 more frequently\n",
    "- When the cost of predicting class 0 when the actual class in 1, $C_{0,1}$ increases, the classifiers will make more false positive errors and less false negative errors. The opposite is true when $C_{1,0}$ increases.\n"
   ]
  },
  {
   "cell_type": "markdown",
   "metadata": {},
   "source": [
    "# Evaluation\n",
    "\n",
    "We can calculate the **Empirical Bayes Risk**, also known as the **Detection Cost Function**, with the following formula:\n",
    "\n",
    "$\n",
    "\\displaystyle DCF_u = \\mathcal{B} = \\sum_{k=1}^{K - 1} \\frac{\\pi_k}{N_k} \\sum_{i | c_i = k} C(c_i^* | k) = \\pi_1 C_{fn} P_{fn} + (1 - \\pi_1) C_{fp} P_{fp}\n",
    "$\n",
    "\n",
    "where $c_i$ is the actual class for sample $i$ and $c_i^*$ is the predicted class for sample $i$.\n"
   ]
  },
  {
   "cell_type": "code",
   "execution_count": 14,
   "metadata": {},
   "outputs": [],
   "source": [
    "def bayes_risk(pi_1, C_fn, C_fp):\n",
    "    t = optimal_bayes_threshold(pi_1, C_fn, C_fp)\n",
    "    predictions = commedia_llr_infpar > t\n",
    "    \n",
    "    cm = skmetrics.confusion_matrix(commedia_labels_infpar, predictions)\n",
    "    \n",
    "    P_fn = cm[1, 0] / np.sum(cm[1, :])\n",
    "    P_fp = cm[0, 1] / np.sum(cm[0, :])\n",
    "    \n",
    "    return pi_1 * C_fn * P_fn + (1 - pi_1) * C_fp * P_fp"
   ]
  },
  {
   "cell_type": "code",
   "execution_count": 15,
   "metadata": {},
   "outputs": [
    {
     "name": "stdout",
     "output_type": "stream",
     "text": [
      "0.25557213930348255\n",
      "0.22517412935323383\n",
      "1.1178482587064678\n",
      "0.7235124378109452\n"
     ]
    }
   ],
   "source": [
    "print(bayes_risk(0.5, 1, 1))\n",
    "print(bayes_risk(0.8, 1, 1))\n",
    "print(bayes_risk(0.5, 10, 1))\n",
    "print(bayes_risk(0.8, 1, 10))"
   ]
  },
  {
   "cell_type": "markdown",
   "metadata": {},
   "source": [
    "## Normalized Bayes Risk\n",
    "\n",
    "We can compute the normalized Bayes risk by dividing the Bayes risk by the Bayes risk of the optimal system that does not use the test data. This is given by:\n",
    "\n",
    "$\n",
    "\\displaystyle DCF_n = \\frac{\\mathcal{B}}{\\mathcal{B}_{\\text{opt}}}\n",
    "$\n",
    "\n",
    "where $\\mathcal{B}_{\\text{opt}} = \\mathcal{B}_{dummy} = min(\\pi_1 C_{fn}, \\quad (1 - \\pi_1) C_{fp})$.\n"
   ]
  },
  {
   "cell_type": "code",
   "execution_count": 16,
   "metadata": {},
   "outputs": [],
   "source": [
    "def normalized_bayes_risk(pi_1, C_fn, C_fp):\n",
    "    t = optimal_bayes_threshold(pi_1, C_fn, C_fp)\n",
    "    predictions = commedia_llr_infpar > t\n",
    "    \n",
    "    cm = skmetrics.confusion_matrix(commedia_labels_infpar, predictions)\n",
    "    \n",
    "    P_fn = cm[1, 0] / np.sum(cm[1, :])\n",
    "    P_fp = cm[0, 1] / np.sum(cm[0, :])\n",
    "    \n",
    "    return (pi_1 * C_fn * P_fn + (1 - pi_1) * C_fp * P_fp) / min(pi_1 * C_fn, (1 - pi_1) * C_fp)"
   ]
  },
  {
   "cell_type": "code",
   "execution_count": 17,
   "metadata": {},
   "outputs": [
    {
     "name": "stdout",
     "output_type": "stream",
     "text": [
      "0.5111442786069651\n",
      "1.1258706467661694\n",
      "2.2356965174129355\n",
      "0.9043905472636815\n"
     ]
    }
   ],
   "source": [
    "print(normalized_bayes_risk(0.5, 1, 1))\n",
    "print(normalized_bayes_risk(0.8, 1, 1))\n",
    "print(normalized_bayes_risk(0.5, 10, 1))\n",
    "print(normalized_bayes_risk(0.8, 1, 10))"
   ]
  },
  {
   "cell_type": "markdown",
   "metadata": {},
   "source": [
    "## Brute Forcing Minimum Detection Cost\n"
   ]
  },
  {
   "cell_type": "code",
   "execution_count": 18,
   "metadata": {},
   "outputs": [],
   "source": [
    "commedia_llr_infpar_sorted = np.sort(commedia_llr_infpar)\n",
    "\n",
    "def dcf(pi_1, C_fn, C_fp, t, normalized = False, X = commedia_llr_infpar):\n",
    "    predictions = np.greater(X, t)\n",
    "    \n",
    "    cm = skmetrics.confusion_matrix(X, predictions)\n",
    "    \n",
    "    P_fn = cm[1, 0] / np.sum(cm[1, :])\n",
    "    P_fp = cm[0, 1] / np.sum(cm[0, :])\n",
    "    \n",
    "    _dcf = (pi_1 * C_fn * P_fn + (1 - pi_1) * C_fp * P_fp)\n",
    "\n",
    "    if normalized:\n",
    "        _dcf /= min(pi_1 * C_fn, (1 - pi_1) * C_fp)\n",
    "        \n",
    "    return _dcf\n",
    "   \n",
    "ts = commedia_llr_infpar_sorted"
   ]
  },
  {
   "cell_type": "code",
   "execution_count": 19,
   "metadata": {},
   "outputs": [
    {
     "name": "stdout",
     "output_type": "stream",
     "text": [
      "0.5061442786069652\n",
      "0.7515422885572139\n",
      "0.8415422885572139\n",
      "0.70931592039801\n"
     ]
    }
   ],
   "source": [
    "best_dcf = None \n",
    "for t in ts:\n",
    "    dcf_ = dcf(0.5, 1, 1, t, normalized=True)\n",
    "    if best_dcf is None or dcf_ < best_dcf:\n",
    "        best_dcf = dcf_\n",
    "\n",
    "print(best_dcf)\n",
    "\n",
    "best_dcf = None\n",
    "for t in ts:\n",
    "    dcf_ = dcf(0.8, 1, 1, t, normalized=True)\n",
    "    if best_dcf is None or dcf_ < best_dcf:\n",
    "        best_dcf = dcf_\n",
    "        \n",
    "print(best_dcf)\n",
    "\n",
    "best_dcf = None\n",
    "for t in ts:\n",
    "    dcf_ = dcf(0.5, 10, 1, t, normalized=True)\n",
    "    if best_dcf is None or dcf_ < best_dcf:\n",
    "        best_dcf = dcf_\n",
    "        \n",
    "print(best_dcf)\n",
    "\n",
    "best_dcf = None\n",
    "for t in ts:\n",
    "    dcf_ = dcf(0.8, 1, 10, t, normalized=True)\n",
    "    if best_dcf is None or dcf_ < best_dcf:\n",
    "        best_dcf = dcf_\n",
    "        \n",
    "print(best_dcf)"
   ]
  },
  {
   "cell_type": "markdown",
   "metadata": {},
   "source": [
    "# ROC curves\n"
   ]
  },
  {
   "cell_type": "code",
   "execution_count": 20,
   "metadata": {},
   "outputs": [
    {
     "data": {
      "image/png": "[encoded data removed]",
      "text/plain": [
       "<Figure size 640x480 with 1 Axes>"
      ]
     },
     "metadata": {},
     "output_type": "display_data"
    }
   ],
   "source": [
    "plt.figure()\n",
    "\n",
    "points = []\n",
    "\n",
    "for t in ts:\n",
    "    cm = skmetrics.confusion_matrix(commedia_labels_infpar, commedia_llr_infpar > t)\n",
    "    P_fn = cm[1, 0] / np.sum(cm[1, :])\n",
    "    P_fp = cm[0, 1] / np.sum(cm[0, :])\n",
    "    \n",
    "    P_t = 1 - P_fn\n",
    "    \n",
    "    points.append((P_fp, P_t))\n",
    "    \n",
    "    \n",
    "plt.plot([p[0] for p in points], [p[1] for p in points])\n",
    "    \n",
    "plt.xlabel(\"FPR\")\n",
    "plt.ylabel(\"TPR\")\n",
    "plt.tight_layout()\n",
    "\n",
    "plt.show()"
   ]
  },
  {
   "cell_type": "markdown",
   "metadata": {},
   "source": [
    "# Bayes Error Plots\n"
   ]
  },
  {
   "cell_type": "code",
   "execution_count": 21,
   "metadata": {},
   "outputs": [
    {
     "data": {
      "image/png": "[encoded data removed]",
      "text/plain": [
       "<Figure size 640x480 with 1 Axes>"
      ]
     },
     "metadata": {},
     "output_type": "display_data"
    }
   ],
   "source": [
    "effPriorLogOdds = np.linspace(-3, 3, 21)\n",
    "\n",
    "pis = [1 / (1 + np.exp(-p)) for p in effPriorLogOdds]\n",
    "\n",
    "dcfs = [dcf(pi, 1, 1, optimal_bayes_threshold(pi, 1, 1), normalized=True) for pi in pis]\n",
    "mindcf = []\n",
    "for p in pis:\n",
    "    best_dcf = None\n",
    "    for t in ts:\n",
    "        dcf_ = dcf(p, 1, 1, t, normalized=True)\n",
    "        if best_dcf is None or dcf_ < best_dcf:\n",
    "            best_dcf = dcf_\n",
    "    mindcf.append(best_dcf)\n",
    "\n",
    "plt.figure()\n",
    "plt.plot(effPriorLogOdds, dcfs, label=\"DCF\", color=\"r\")\n",
    "plt.plot(effPriorLogOdds, mindcf, label=\"Min DCF\", color=\"b\")\n",
    "plt.ylim([0, 1.1])\n",
    "plt.xlim([-3, 3])\n",
    "\n",
    "plt.legend()\n",
    "\n",
    "plt.show()"
   ]
  },
  {
   "cell_type": "markdown",
   "metadata": {},
   "source": [
    "## Comparison with recognizer with $\\epsilon = 1$\n"
   ]
  },
  {
   "cell_type": "code",
   "execution_count": 22,
   "metadata": {},
   "outputs": [
    {
     "data": {
      "image/png": "[encoded data removed]",
      "text/plain": [
       "<Figure size 640x480 with 1 Axes>"
      ]
     },
     "metadata": {},
     "output_type": "display_data"
    }
   ],
   "source": [
    "dcfs_p = [dcf(pi, 1, 1, optimal_bayes_threshold(pi, 1, 1), normalized=True, X=commedia_llr_infpar_eps1) for pi in pis]\n",
    "mindcf_p = []\n",
    "for p in pis:\n",
    "    best_dcf = None\n",
    "    for t in ts:\n",
    "        dcf_ = dcf(p, 1, 1, t, normalized=True, X=commedia_llr_infpar_eps1)\n",
    "        if best_dcf is None or dcf_ < best_dcf:\n",
    "            best_dcf = dcf_\n",
    "    mindcf_p.append(best_dcf)\n",
    "    \n",
    "plt.figure()\n",
    "\n",
    "plt.plot(effPriorLogOdds, dcfs, label=\"DCF (eps = 0.001)\", color=\"r\")\n",
    "plt.plot(effPriorLogOdds, mindcf, label=\"Min DCF (eps = 0.001)\", color=\"b\")\n",
    "plt.plot(effPriorLogOdds, dcfs_p, label=\"DCF (eps = 1)\", color=\"y\")\n",
    "plt.plot(effPriorLogOdds, mindcf_p, label=\"Min DCF (eps = 1)\", color=\"g\")\n",
    "\n",
    "plt.ylim([0, 1.1])\n",
    "plt.xlim([-3, 3])\n",
    "\n",
    "plt.legend()\n",
    "\n",
    "plt.show()\n"
   ]
  },
  {
   "cell_type": "code",
   "execution_count": 23,
   "metadata": {},
   "outputs": [
    {
     "name": "stdout",
     "output_type": "stream",
     "text": [
      "0.3964303482587065\n",
      "0.7480597014925373\n",
      "1.0526119402985075\n",
      "0.6581965174129353\n",
      "0.3888432835820895\n",
      "0.7000995024875623\n",
      "0.8439054726368159\n",
      "0.6036940298507462\n"
     ]
    }
   ],
   "source": [
    "print(dcf(0.5, 1, 1, optimal_bayes_threshold(0.5, 1, 1), normalized=True, X=commedia_llr_infpar_eps1))\n",
    "print(dcf(0.8, 1, 1, optimal_bayes_threshold(0.8, 1, 1), normalized=True, X=commedia_llr_infpar_eps1))\n",
    "print(dcf(0.5, 10, 1, optimal_bayes_threshold(0.5, 10, 1), normalized=True, X=commedia_llr_infpar_eps1))\n",
    "print(dcf(0.8, 1, 10, optimal_bayes_threshold(0.8, 1, 10), normalized=True, X=commedia_llr_infpar_eps1))\n",
    "\n",
    "best_dcf = None\n",
    "for t in ts:\n",
    "    dcf_ = dcf(0.5, 1, 1, t, normalized=True, X=commedia_llr_infpar_eps1)\n",
    "    if best_dcf is None or dcf_ < best_dcf:\n",
    "        best_dcf = dcf_\n",
    "        \n",
    "print(best_dcf)\n",
    "\n",
    "best_dcf = None\n",
    "for t in ts:\n",
    "    dcf_ = dcf(0.8, 1, 1, t, normalized=True, X=commedia_llr_infpar_eps1)\n",
    "    if best_dcf is None or dcf_ < best_dcf:\n",
    "        best_dcf = dcf_\n",
    "        \n",
    "print(best_dcf)\n",
    "\n",
    "best_dcf = None\n",
    "for t in ts:\n",
    "    dcf_ = dcf(0.5, 10, 1, t, normalized=True, X=commedia_llr_infpar_eps1)\n",
    "    if best_dcf is None or dcf_ < best_dcf:\n",
    "        best_dcf = dcf_\n",
    "        \n",
    "print(best_dcf)\n",
    "\n",
    "best_dcf = None\n",
    "for t in ts:\n",
    "    dcf_ = dcf(0.8, 1, 10, t, normalized=True, X=commedia_llr_infpar_eps1)\n",
    "    if best_dcf is None or dcf_ < best_dcf:\n",
    "        best_dcf = dcf_\n",
    "        \n",
    "print(best_dcf)"
   ]
  },
  {
   "cell_type": "markdown",
   "metadata": {},
   "source": [
    "# Multi-class Evaluation\n"
   ]
  },
  {
   "cell_type": "code",
   "execution_count": null,
   "metadata": {},
   "outputs": [],
   "source": []
  }
 ],
 "metadata": {
  "kernelspec": {
   "display_name": "ml-and-pr",
   "language": "python",
   "name": "python3"
  },
  "language_info": {
   "codemirror_mode": {
    "name": "ipython",
    "version": 3
   },
   "file_extension": ".py",
   "mimetype": "text/x-python",
   "name": "python",
   "nbconvert_exporter": "python",
   "pygments_lexer": "ipython3",
   "version": "3.12.3"
  }
 },
 "nbformat": 4,
 "nbformat_minor": 2
}
