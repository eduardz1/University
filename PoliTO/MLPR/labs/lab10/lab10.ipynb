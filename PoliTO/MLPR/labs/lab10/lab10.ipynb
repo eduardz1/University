{
 "cells": [
  {
   "cell_type": "code",
   "execution_count": 188,
   "metadata": {},
   "outputs": [],
   "source": [
    "import json\n",
    "import numpy as np\n",
    "import numpy.typing as npt\n",
    "import scipy.special as sp\n",
    "from dataclasses import dataclass\n",
    "from dataclasses import field\n",
    "from typing import Literal\n",
    "import matplotlib.pyplot as plt"
   ]
  },
  {
   "cell_type": "markdown",
   "metadata": {},
   "source": [
    "# Helper Functions\n"
   ]
  },
  {
   "cell_type": "code",
   "execution_count": 189,
   "metadata": {},
   "outputs": [],
   "source": [
    "\n",
    "def save_gmm(gmm, filename):\n",
    "    gmmJson = [(i, j.tolist(), k.tolist()) for i, j, k in gmm]\n",
    "    with open(filename, 'w') as f:\n",
    "        json.dump(gmmJson, f)\n",
    "    \n",
    "def load_gmm(filename):\n",
    "    with open(filename, 'r') as f:\n",
    "        gmm = json.load(f)\n",
    "    return [(i, np.asarray(j), np.asarray(k)) for i, j, k in gmm]\n",
    "\n",
    "def vcol(vec: npt.NDArray) -> npt.NDArray:\n",
    "    return vec.reshape(-1, 1)\n",
    "\n",
    "def vrow(vec: npt.NDArray) -> npt.NDArray:\n",
    "    return vec.reshape(1, -1)\n",
    "\n",
    "def mean(x, axis=None):\n",
    "    if axis is None:\n",
    "        return np.sum(x, axis) / np.prod(x.shape)\n",
    "    else:\n",
    "        return np.sum(x, axis) / x.shape[axis]\n",
    "\n",
    "def cov(X: npt.NDArray) -> npt.NDArray:\n",
    "    \"\"\"Compute the covariance matrix of the given data. Centers the data first.\n",
    "\n",
    "    Args:\n",
    "        X (npt.NDArray): The data\n",
    "\n",
    "    Returns:\n",
    "        npt.NDArray: The covariance matrix\n",
    "    \"\"\"\n",
    "    DC = X - vcol(mean(X, 1))\n",
    "\n",
    "    return (DC @ DC.T) / float(X.shape[1])"
   ]
  },
  {
   "cell_type": "markdown",
   "metadata": {},
   "source": [
    "# Load the data\n"
   ]
  },
  {
   "cell_type": "markdown",
   "metadata": {},
   "source": [
    "## `.npy` arrays\n"
   ]
  },
  {
   "cell_type": "code",
   "execution_count": 190,
   "metadata": {},
   "outputs": [],
   "source": [
    "ext_data_binary_labels = np.load('data/ext_data_binary_labels.npy')\n",
    "ext_data_binary = np.load('data/ext_data_binary.npy')\n",
    "GMM_1D_3G_init_ll = np.load('data/GMM_1D_3G_init_ll.npy')\n",
    "GMM_4D_3G_init_ll = np.load('data/GMM_4D_3G_init_ll.npy')\n",
    "GMM_data_1D = np.load('data/GMM_data_1D.npy')\n",
    "GMM_data_4D = np.load('data/GMM_data_4D.npy')"
   ]
  },
  {
   "cell_type": "markdown",
   "metadata": {},
   "source": [
    "## `.json` GMMs\n"
   ]
  },
  {
   "cell_type": "code",
   "execution_count": 191,
   "metadata": {},
   "outputs": [],
   "source": [
    "GMM_1D_3G_EM = load_gmm('data/GMM_1D_3G_EM.json')\n",
    "GMM_1D_3G_init = load_gmm('data/GMM_1D_3G_init.json')\n",
    "GMM_1D_4G_EM_LBG = load_gmm('data/GMM_1D_4G_EM_LBG.json')\n",
    "GMM_4D_3G_EM = load_gmm('data/GMM_4D_3G_EM.json')\n",
    "GMM_4D_3G_init = load_gmm('data/GMM_4D_3G_init.json')\n",
    "GMM_4D_4G_EM_LBG = load_gmm('data/GMM_4D_4G_EM_LBG.json')"
   ]
  },
  {
   "cell_type": "markdown",
   "metadata": {},
   "source": [
    "# GMM probability density function\n"
   ]
  },
  {
   "cell_type": "code",
   "execution_count": 192,
   "metadata": {},
   "outputs": [],
   "source": [
    "def _check_params(X: npt.NDArray, mu: npt.NDArray, C: npt.NDArray) -> None:\n",
    "    # fmt: off\n",
    "    assert len(X.shape) == 2, f\"X must be a 2D array, got {len(X.shape)}\"\n",
    "    assert len(mu) == X.shape[0], f\"mu must have the same number of rows as X ({X.shape[0]}), got {len(mu)}\"\n",
    "    assert len(C.shape) == 2, f\"C must be a 2D array, got {len(C.shape)}\"\n",
    "    assert C.shape[0] == C.shape[1], f\"C must be a square matrix, got {C.shape[0]}x{C.shape[1]}\"\n",
    "    assert C.shape[0] == X.shape[0], f\"C must have the same number of rows as X ({X.shape[0]}), got {C.shape[0]}x{C.shape[1]}\"\n",
    "    # fmt: on\n",
    "\n",
    "\n",
    "def log_pdf_gaussian(X: npt.NDArray, mu: npt.NDArray, C: npt.NDArray) -> npt.NDArray:\n",
    "    \"\"\"Calculates the logarithm of the multivariate gaussian density function\n",
    "\n",
    "    Args:\n",
    "        X (NDArray): [M x N] data matrix\n",
    "        mu (ArrayLike): [M x 1] mean vector\n",
    "        C (NDArray): [M x M] covariance matrix\n",
    "\n",
    "    Returns:\n",
    "        NDArray: [N x 1] logarithm of the multivariate gaussian density function\n",
    "    \"\"\"\n",
    "    X = np.atleast_2d(X)\n",
    "    mu = np.atleast_1d(mu)\n",
    "    C = np.atleast_2d(C)\n",
    "\n",
    "    _check_params(X, mu, C)\n",
    "\n",
    "    return -0.5 * (\n",
    "        X.shape[0] * np.log(2 * np.pi)\n",
    "        + np.linalg.slogdet(C)[1]\n",
    "        + np.einsum(\"ij,ji->i\", np.dot((X - mu).T, np.linalg.inv(C)), (X - mu))\n",
    "    )\n",
    "\n",
    "def log_pdf_gmm(\n",
    "    X: npt.NDArray, gmm: list[tuple[npt.NDArray, npt.NDArray, npt.NDArray]]\n",
    "):\n",
    "    \"\"\"Calculates the logarithm of the gaussian mixture model density function\n",
    "\n",
    "    Args:\n",
    "        X (NDArray): [M x N] data matrix\n",
    "        gmm (List[Tuple[NDArray, NDArray, NDArray]]): list of tuples containing\n",
    "            the weights, means and covariances of the GMM\n",
    "\n",
    "    Returns:\n",
    "        NDArray: [N x K] logarithm of the gaussian mixture model density function\n",
    "    \"\"\"\n",
    "    S = [log_pdf_gaussian(X, mu, C) + np.log(w) for w, mu, C in gmm]\n",
    "\n",
    "    S = np.vstack(S)\n",
    "\n",
    "    return sp.logsumexp(S, axis=0)"
   ]
  },
  {
   "cell_type": "code",
   "execution_count": 193,
   "metadata": {},
   "outputs": [],
   "source": [
    "assert np.allclose(\n",
    "    log_pdf_gmm(GMM_data_4D, GMM_4D_3G_init),\n",
    "    GMM_4D_3G_init_ll\n",
    ")\n",
    "\n",
    "assert np.allclose(\n",
    "    log_pdf_gmm(GMM_data_1D, GMM_1D_3G_init),\n",
    "    GMM_1D_3G_init_ll\n",
    ")"
   ]
  },
  {
   "cell_type": "markdown",
   "metadata": {},
   "source": [
    "# GMM estimation: the EM algorithm\n"
   ]
  },
  {
   "cell_type": "code",
   "execution_count": 194,
   "metadata": {},
   "outputs": [],
   "source": [
    "@dataclass\n",
    "class GaussianMixtureModel:\n",
    "    X: npt.NDArray\n",
    "    params: list[tuple[npt.NDArray, npt.NDArray, npt.NDArray]] = field(default_factory=list)\n",
    "\n",
    "    def train(\n",
    "        self,\n",
    "        *,\n",
    "        apply_lbg: bool = False,\n",
    "        num_components: int = 1,\n",
    "        cov_type: Literal[\"full\"] | Literal[\"diagonal\"] | Literal[\"tied\"] = \"full\",\n",
    "        eps_ll_avg: float = 1e-6,\n",
    "        psi_eig: float | None = None,\n",
    "    ):\n",
    "        \"\"\"\n",
    "        Trains the Gaussian Mixture Model using the Expectation-Maximization algorithm\n",
    "\n",
    "        Args:\n",
    "            apply_lbg (bool, optional): Whether to apply the Linde-Buzo-Gray\n",
    "                algorithm to initialize the GMM. Defaults to False.\n",
    "            num_components (int, optional): The number of components to use in\n",
    "                the GMM when applying the LBG algorithm. Defaults to 1.\n",
    "            cov_type (\n",
    "                Literal[full] | Literal[diagonal] | Literal[tied], optional\n",
    "                ): The type of covariance matrix to use. Defaults to \"full\".\n",
    "            psi_eig (float | None, optional): The minimum eigenvalue for the\n",
    "                covariance matrix. Defaults to None.\n",
    "            eps_ll_avg (float, optional): The minimum difference between the\n",
    "                log-likelihoods of two consecutive iterations. Defaults to 1e-6.\n",
    "        \"\"\"\n",
    "\n",
    "        if apply_lbg:\n",
    "            mu = vcol(mean(self.X, axis=1))\n",
    "            C = cov(self.X)\n",
    "\n",
    "            if cov_type == \"diagonal\":\n",
    "                C = C * np.eye(self.X.shape[0])\n",
    "\n",
    "            self.params = [\n",
    "                (\n",
    "                    np.array(1.0),\n",
    "                    mu,\n",
    "                    C if psi_eig is None else self.smooth_covariance_matrix(C, psi_eig),\n",
    "                )\n",
    "            ]\n",
    "\n",
    "            while len(self.params) < num_components:\n",
    "                self.__lgb_split()\n",
    "                self.__train(cov_type, eps_ll_avg, psi_eig)\n",
    "        else:\n",
    "            self.__train(cov_type, eps_ll_avg, psi_eig)\n",
    "\n",
    "    def __train(self, cov_type, eps_ll_avg, psi_eig):\n",
    "        \"\"\"\n",
    "        Trains the Gaussian Mixture Model using the Expectation-Maximization algorithm\n",
    "        \"\"\"\n",
    "\n",
    "        while True:\n",
    "            old_ll = mean(log_pdf_gmm(self.X, self.params))\n",
    "            self.__em_it(cov_type, psi_eig)\n",
    "            new_ll = mean(log_pdf_gmm(self.X, self.params))\n",
    "\n",
    "            if new_ll - old_ll < eps_ll_avg:\n",
    "                break\n",
    "\n",
    "    def __em_it(self, cov_type, psi_eig):\n",
    "        \"\"\"\n",
    "        Applies one iteration of the Expectation-Maximization algorithm\n",
    "        \"\"\"\n",
    "\n",
    "        # E-step\n",
    "        S = [log_pdf_gaussian(self.X, mu, C) + np.log(w) for w, mu, C in self.params]\n",
    "\n",
    "        S = np.vstack(S)\n",
    "\n",
    "        log_densities = sp.logsumexp(S, axis=0)\n",
    "\n",
    "        # Posterior probabilities for all clusters, each row corresponds to a\n",
    "        # Gaussian component, each column corresponds to a sample\n",
    "        responsibilities = np.exp(S - log_densities)\n",
    "\n",
    "        # M-step\n",
    "        new_params = []\n",
    "        for resp in responsibilities:\n",
    "            Z = resp.sum()\n",
    "            F = vcol((vrow(resp) * self.X).sum(1))\n",
    "            S = (vrow(resp) * self.X) @ self.X.T\n",
    "\n",
    "            # Update the parameters\n",
    "            mu = F / Z\n",
    "            C = S / Z - mu @ mu.T\n",
    "            w = Z / self.X.shape[1]\n",
    "\n",
    "            if cov_type.lower() == \"diagonal\":\n",
    "                C = C * np.eye(self.X.shape[0])\n",
    "\n",
    "            new_params.append((w, mu, C))\n",
    "\n",
    "        if cov_type.lower() == \"tied\":\n",
    "            C_tied = sum(w * C for w, _, C in new_params)\n",
    "\n",
    "            for i, (w, mu, _) in enumerate(new_params):\n",
    "                new_params[i] = (w, mu, C_tied)\n",
    "\n",
    "        if psi_eig is not None:\n",
    "            for i, (w, mu, C) in enumerate(new_params):\n",
    "                new_params[i] = (w, mu, self.smooth_covariance_matrix(C, psi_eig))\n",
    "\n",
    "        self.params = new_params\n",
    "\n",
    "    def __lgb_split(self, alpha=0.1):\n",
    "        \"\"\"\n",
    "        Splits the components of the GMM using the Linde-Buzo-Gray algorithm\n",
    "\n",
    "        Args:\n",
    "            alpha (float, optional): The scaling factor for the displacement.\n",
    "                Defaults to 0.1.\n",
    "        \"\"\"\n",
    "\n",
    "        new_params = []\n",
    "        for w, mu, C in self.params:\n",
    "            U, s, _ = np.linalg.svd(C)\n",
    "            displacement = U[:, :1] * s[0] ** 0.5 * alpha\n",
    "            new_params.append((0.5 * w, mu - displacement, C))\n",
    "            new_params.append((0.5 * w, mu + displacement, C))\n",
    "\n",
    "        self.params = new_params\n",
    "\n",
    "    @staticmethod\n",
    "    def smooth_covariance_matrix(C: npt.NDArray, psi: float):\n",
    "        \"\"\"\n",
    "        Smoothes the covariance matrix by setting the eigenvalues below a\n",
    "        certain threshold to that threshold value\n",
    "\n",
    "        Args:\n",
    "            C (npt.NDArray): The covariance matrix\n",
    "            psi (float): The minimum eigenvalue\n",
    "\n",
    "        Returns:\n",
    "            npt.NDArray: The smoothed covariance matrix\n",
    "        \"\"\"\n",
    "\n",
    "        U, s, _ = np.linalg.svd(C)\n",
    "        s[s < psi] = psi\n",
    "        return U @ (vcol(s) * U.T)\n"
   ]
  },
  {
   "cell_type": "code",
   "execution_count": 195,
   "metadata": {},
   "outputs": [],
   "source": [
    "gmm = GaussianMixtureModel(GMM_data_4D, GMM_4D_3G_init)\n",
    "\n",
    "gmm.train()\n",
    "\n",
    "assert np.allclose(\n",
    "    log_pdf_gmm(GMM_data_4D, gmm.params).mean(),\n",
    "    -7.26325603\n",
    ")"
   ]
  },
  {
   "cell_type": "markdown",
   "metadata": {},
   "source": [
    "## Plot the 1D GMM\n"
   ]
  },
  {
   "cell_type": "code",
   "execution_count": 196,
   "metadata": {},
   "outputs": [
    {
     "data": {
      "image/png": "[encoded data removed]",
      "text/plain": [
       "<Figure size 640x480 with 1 Axes>"
      ]
     },
     "metadata": {},
     "output_type": "display_data"
    }
   ],
   "source": [
    "gmm = GaussianMixtureModel(GMM_data_1D, GMM_1D_3G_init)\n",
    "\n",
    "gmm.train()\n",
    "\n",
    "plt.figure()\n",
    "plt.hist(GMM_data_1D.ravel(), 25, density=True)\n",
    "xs = np.linspace(-10, 5, 1000)\n",
    "\n",
    "plt.plot(xs.ravel(), np.exp(log_pdf_gmm(vrow(xs), gmm.params)))\n",
    "\n",
    "plt.show()"
   ]
  },
  {
   "cell_type": "markdown",
   "metadata": {},
   "source": [
    "# LGB Algorithm\n"
   ]
  },
  {
   "cell_type": "code",
   "execution_count": 197,
   "metadata": {},
   "outputs": [],
   "source": [
    "gmm = GaussianMixtureModel(GMM_data_4D)\n",
    "\n",
    "gmm.train(apply_lbg=True, num_components=4)\n",
    "\n",
    "assert np.allclose(\n",
    "    log_pdf_gmm(GMM_data_4D, gmm.params).mean(),\n",
    "    -7.25337844\n",
    ")"
   ]
  },
  {
   "cell_type": "markdown",
   "metadata": {},
   "source": [
    "## Plot the 1D GMM\n"
   ]
  },
  {
   "cell_type": "code",
   "execution_count": 198,
   "metadata": {},
   "outputs": [
    {
     "data": {
      "image/png": "[encoded data removed]",
      "text/plain": [
       "<Figure size 640x480 with 1 Axes>"
      ]
     },
     "metadata": {},
     "output_type": "display_data"
    }
   ],
   "source": [
    "gmm = GaussianMixtureModel(GMM_data_1D)\n",
    "\n",
    "gmm.train(apply_lbg=True, num_components=4)\n",
    "\n",
    "plt.figure()\n",
    "plt.hist(GMM_data_1D.ravel(), 25, density=True)\n",
    "xs = np.linspace(-10, 5, 1000)\n",
    "\n",
    "plt.plot(xs.ravel(), np.exp(log_pdf_gmm(vrow(xs), gmm.params)))\n",
    "\n",
    "plt.show()"
   ]
  }
 ],
 "metadata": {
  "kernelspec": {
   "display_name": "ml-and-pr",
   "language": "python",
   "name": "python3"
  },
  "language_info": {
   "codemirror_mode": {
    "name": "ipython",
    "version": 3
   },
   "file_extension": ".py",
   "mimetype": "text/x-python",
   "name": "python",
   "nbconvert_exporter": "python",
   "pygments_lexer": "ipython3",
   "version": "3.12.2"
  }
 },
 "nbformat": 4,
 "nbformat_minor": 2
}
