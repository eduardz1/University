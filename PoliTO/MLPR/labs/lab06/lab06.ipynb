{
 "cells": [
  {
   "cell_type": "code",
   "execution_count": 1,
   "metadata": {},
   "outputs": [],
   "source": [
    "import numpy as np"
   ]
  },
  {
   "cell_type": "markdown",
   "metadata": {},
   "source": [
    "# Helper Functions"
   ]
  },
  {
   "cell_type": "code",
   "execution_count": 2,
   "metadata": {},
   "outputs": [],
   "source": [
    "def load_data():\n",
    "\n",
    "    lInf = []\n",
    "\n",
    "    f=open('data/inferno.txt', encoding=\"ISO-8859-1\")\n",
    "\n",
    "    for line in f:\n",
    "        lInf.append(line.strip())\n",
    "    f.close()\n",
    "\n",
    "    lPur = []\n",
    "\n",
    "    f=open('data/purgatorio.txt', encoding=\"ISO-8859-1\")\n",
    "\n",
    "    for line in f:\n",
    "        lPur.append(line.strip())\n",
    "    f.close()\n",
    "\n",
    "    lPar = []\n",
    "\n",
    "    f=open('data/paradiso.txt', encoding=\"ISO-8859-1\")\n",
    "\n",
    "    for line in f:\n",
    "        lPar.append(line.strip())\n",
    "    f.close()\n",
    "    \n",
    "    return lInf, lPur, lPar\n",
    "\n",
    "def split_data(l, n):\n",
    "\n",
    "    lTrain, lTest = [], []\n",
    "    for i in range(len(l)):\n",
    "        if i % n == 0:\n",
    "            lTest.append(l[i])\n",
    "        else:\n",
    "            lTrain.append(l[i])\n",
    "            \n",
    "    return lTrain, lTest"
   ]
  },
  {
   "cell_type": "markdown",
   "metadata": {},
   "source": [
    "# Multinomial Models"
   ]
  },
  {
   "cell_type": "markdown",
   "metadata": {},
   "source": [
    "## Load the Data"
   ]
  },
  {
   "cell_type": "code",
   "execution_count": 3,
   "metadata": {},
   "outputs": [],
   "source": [
    "INFERNO, PURGATORIO, PARADISO = load_data()\n",
    "\n",
    "INFERNO_TRAIN, INFERNO_TEST = split_data(INFERNO, 4)\n",
    "PURGATORIO_TRAIN, PURGATORIO_TEST = split_data(PURGATORIO, 4)\n",
    "PARADISO_TRAIN, PARADISO_TEST = split_data(PARADISO, 4)"
   ]
  },
  {
   "cell_type": "markdown",
   "metadata": {},
   "source": [
    "## Calculate the log Likelihood"
   ]
  },
  {
   "cell_type": "code",
   "execution_count": null,
   "metadata": {},
   "outputs": [],
   "source": [
    "likelihood = "
   ]
  }
 ],
 "metadata": {
  "kernelspec": {
   "display_name": "Python 3",
   "language": "python",
   "name": "python3"
  },
  "language_info": {
   "codemirror_mode": {
    "name": "ipython",
    "version": 3
   },
   "file_extension": ".py",
   "mimetype": "text/x-python",
   "name": "python",
   "nbconvert_exporter": "python",
   "pygments_lexer": "ipython3",
   "version": "3.12.3"
  }
 },
 "nbformat": 4,
 "nbformat_minor": 2
}
